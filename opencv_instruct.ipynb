{
 "cells": [
  {
   "cell_type": "markdown",
   "id": "e8be620b",
   "metadata": {},
   "source": [
    "# 安装Opencv\n",
    "\n",
    "从配置文件创建虚拟环境并且激活\n",
    "\n",
    "```bash\n",
    "conda create -f envs.yaml\n",
    "conda activate py_opencv\n",
    "```\n",
    "\n",
    "在 `notebook` 中选择 `python` 解释器，点一下顶上右边的选择解释器，也就是图中的 `py_opencv(Python 3.13.5)` 部分\n",
    "\n",
    "\n",
    "![notebook head](images\\notebookhead.png)\n",
    "\n",
    "\n",
    "在弹出的菜单中选择 `Python环境` \n",
    "\n",
    "![notebook head](images\\py_select_1.png)\n",
    "\n",
    "\n",
    "在弹出的菜单中选择 `py_opencv` 环境\n",
    "\n",
    "![notebook head](images\\py_select_2.png)\n"
   ]
  },
  {
   "cell_type": "code",
   "execution_count": null,
   "id": "957ae931",
   "metadata": {},
   "outputs": [],
   "source": []
  }
 ],
 "metadata": {
  "kernelspec": {
   "display_name": "py_opencv",
   "language": "python",
   "name": "python3"
  },
  "language_info": {
   "name": "python",
   "version": "3.13.5"
  }
 },
 "nbformat": 4,
 "nbformat_minor": 5
}
